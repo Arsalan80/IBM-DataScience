{
 "cells": [
  {
   "cell_type": "markdown",
   "id": "62fbbf8c-882b-4f4d-9a5c-011e31ba525c",
   "metadata": {},
   "source": [
    "# Data Science Tools & Ecosystem"
   ]
  },
  {
   "cell_type": "markdown",
   "id": "69477bd2-7b9e-4007-a3cd-e569e40b0b91",
   "metadata": {},
   "source": [
    "In this Notebook Data Science Tools & Ecosystem are summarized"
   ]
  },
  {
   "cell_type": "markdown",
   "id": "3040964b-ff2f-4214-8aaa-881949953976",
   "metadata": {},
   "source": [
    "**Objectives**\n",
    "* list popular languages\n",
    "* list commonly used libraries\n",
    "* list open source IDEs\n",
    "* provide examples of an arithmetic expression"
   ]
  },
  {
   "cell_type": "markdown",
   "id": "9064bcda-763f-4fa3-b1b1-91e42e9586e5",
   "metadata": {},
   "source": [
    "Some of the popular languages for Data Science are:\n",
    "1. Python\n",
    "2. Java\n",
    "3. R\n",
    "4. SQL\n",
    "5. C++"
   ]
  },
  {
   "cell_type": "markdown",
   "id": "4df3be5e-1ce9-41e8-a9b2-166a25ce9b50",
   "metadata": {},
   "source": [
    "Some of the commonly used libraries used by Data Scientists are:\n",
    "1. Pandas\n",
    "2. Matplotlib\n",
    "3. Numpy\n",
    "4. Scikit-Learn"
   ]
  },
  {
   "cell_type": "markdown",
   "id": "6e564f40-f743-4ef2-bf21-c0af32c935e7",
   "metadata": {},
   "source": [
    "| Data Science Tools |\n",
    "| ------------------ |\n",
    "| Jupyter Notebooks |\n",
    "| Spydr |\n",
    "| Jypter Labs |"
   ]
  },
  {
   "cell_type": "markdown",
   "id": "51212c84-1bae-4eeb-b219-58b72df2f7c0",
   "metadata": {},
   "source": [
    "### Below are few examples of evaluating airthmetic expressions in Python."
   ]
  },
  {
   "cell_type": "code",
   "execution_count": 1,
   "id": "584a7476-d7f3-4532-a416-8e1ba0ca89fc",
   "metadata": {
    "tags": []
   },
   "outputs": [
    {
     "data": {
      "text/plain": [
       "17"
      ]
     },
     "execution_count": 1,
     "metadata": {},
     "output_type": "execute_result"
    }
   ],
   "source": [
    "#this is a simple expression to multiple and then add numbers\n",
    "(3*4)+5"
   ]
  },
  {
   "cell_type": "code",
   "execution_count": 2,
   "id": "aca26abf-d322-48f6-a809-8bfc19ad3afb",
   "metadata": {
    "tags": []
   },
   "outputs": [
    {
     "data": {
      "text/plain": [
       "3.3333333333333335"
      ]
     },
     "execution_count": 2,
     "metadata": {},
     "output_type": "execute_result"
    }
   ],
   "source": [
    "#convert 200 minutes to hours\n",
    "200/60"
   ]
  },
  {
   "cell_type": "markdown",
   "id": "20f26691-34e3-4ad5-896f-68c07888bb37",
   "metadata": {},
   "source": [
    "## Author\n",
    "Arsalan I. Sheikh"
   ]
  }
 ],
 "metadata": {
  "kernelspec": {
   "display_name": "Python",
   "language": "python",
   "name": "conda-env-python-py"
  },
  "language_info": {
   "codemirror_mode": {
    "name": "ipython",
    "version": 3
   },
   "file_extension": ".py",
   "mimetype": "text/x-python",
   "name": "python",
   "nbconvert_exporter": "python",
   "pygments_lexer": "ipython3",
   "version": "3.7.12"
  }
 },
 "nbformat": 4,
 "nbformat_minor": 5
}
